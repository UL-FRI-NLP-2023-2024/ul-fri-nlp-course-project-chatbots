{
 "cells": [
  {
   "cell_type": "code",
   "execution_count": null,
   "metadata": {
    "collapsed": true
   },
   "outputs": [],
   "source": [
    "from datasets import Dataset\n",
    "import pandas as pd\n",
    "\n",
    "# Change path according to location of train and eval files on your device\n",
    "train_data = pd.read_csv(\"C:\\\\Users\\\\anzeo\\\\Downloads\\\\Slovene translation of SuperGLUE\\\\SuperGLUE-HumanT\\\\csv\\\\COPA\\\\train.csv\")\n",
    "eval_data = pd.read_csv(\"C:\\\\Users\\\\anzeo\\\\Downloads\\\\Slovene translation of SuperGLUE\\\\SuperGLUE-HumanT\\\\csv\\\\COPA\\\\val.csv\")\n",
    "\n",
    "train_dataset = Dataset.from_pandas(train_data)\n",
    "eval_dataset = Dataset.from_pandas(eval_data)\n",
    "\n",
    "train_dataset.push_to_hub(\"anzeo/Slovene_SuperGLUE_COPA\", split=\"train\", private=True)\n",
    "eval_dataset.push_to_hub(\"anzeo/Slovene_SuperGLUE_COPA\", split=\"eval\", private=True)"
   ]
  }
 ],
 "metadata": {
  "kernelspec": {
   "display_name": "Python 3",
   "language": "python",
   "name": "python3"
  },
  "language_info": {
   "codemirror_mode": {
    "name": "ipython",
    "version": 2
   },
   "file_extension": ".py",
   "mimetype": "text/x-python",
   "name": "python",
   "nbconvert_exporter": "python",
   "pygments_lexer": "ipython2",
   "version": "2.7.6"
  }
 },
 "nbformat": 4,
 "nbformat_minor": 0
}
