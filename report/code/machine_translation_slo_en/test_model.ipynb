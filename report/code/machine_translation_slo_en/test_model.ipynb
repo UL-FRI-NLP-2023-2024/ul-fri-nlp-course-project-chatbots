{
 "cells": [
  {
   "cell_type": "code",
   "execution_count": 29,
   "metadata": {
    "collapsed": true,
    "ExecuteTime": {
     "end_time": "2024-05-24T11:10:33.813696100Z",
     "start_time": "2024-05-24T11:10:33.804360800Z"
    }
   },
   "outputs": [],
   "source": [
    "from tqdm import tqdm"
   ]
  },
  {
   "cell_type": "code",
   "execution_count": 30,
   "outputs": [],
   "source": [
    "from transformers import set_seed\n",
    "\n",
    "# We need to set the seed, otherwise some weights of the model are initialized differently every time, and consequently the result can be different each time as well\n",
    "set_seed(42)"
   ],
   "metadata": {
    "collapsed": false,
    "ExecuteTime": {
     "end_time": "2024-05-24T11:10:34.149014100Z",
     "start_time": "2024-05-24T11:10:34.143017Z"
    }
   }
  },
  {
   "cell_type": "code",
   "execution_count": 31,
   "outputs": [],
   "source": [
    "from datasets import load_dataset\n",
    "\n",
    "test_dataset = load_dataset(\"text\", data_files={\"test\": [\"C:\\\\Users\\\\anzeo\\\\Downloads\\\\slobench_slen.sl_2\\\\slobench_slen.sl.txt\"]})"
   ],
   "metadata": {
    "collapsed": false,
    "ExecuteTime": {
     "end_time": "2024-05-24T11:10:34.862047600Z",
     "start_time": "2024-05-24T11:10:34.467550Z"
    }
   }
  },
  {
   "cell_type": "code",
   "execution_count": 32,
   "outputs": [
    {
     "data": {
      "text/plain": "DatasetDict({\n    test: Dataset({\n        features: ['text'],\n        num_rows: 1233\n    })\n})"
     },
     "execution_count": 32,
     "metadata": {},
     "output_type": "execute_result"
    }
   ],
   "source": [
    "test_dataset"
   ],
   "metadata": {
    "collapsed": false,
    "ExecuteTime": {
     "end_time": "2024-05-24T11:10:34.862548300Z",
     "start_time": "2024-05-24T11:10:34.855049300Z"
    }
   }
  },
  {
   "cell_type": "code",
   "execution_count": 33,
   "outputs": [
    {
     "data": {
      "text/plain": "{'text': 'aha tukajle se še enkrat malo ponovi poglej no poglej pozabila zbrisati'}"
     },
     "execution_count": 33,
     "metadata": {},
     "output_type": "execute_result"
    }
   ],
   "source": [
    "test_dataset[\"test\"][0]"
   ],
   "metadata": {
    "collapsed": false,
    "ExecuteTime": {
     "end_time": "2024-05-24T11:10:35.682655900Z",
     "start_time": "2024-05-24T11:10:35.674655700Z"
    }
   }
  },
  {
   "cell_type": "code",
   "execution_count": 34,
   "outputs": [
    {
     "name": "stderr",
     "output_type": "stream",
     "text": [
      "Processing entries: 100%|██████████| 1233/1233 [24:22<00:00,  1.19s/it]\n"
     ]
    }
   ],
   "source": [
    "from transformers import pipeline\n",
    "\n",
    "adapter_name = \"tjasad/translation_slo_eng_opus-mt-sla-en_lora\"\n",
    "translator = pipeline(\"translation_sl_to_en\", model=adapter_name, max_length=400)\n",
    "\n",
    "results = []\n",
    "with open(\"slobench_slen.en.txt\", \"w\", encoding=\"utf-8\") as result_file:\n",
    "    for entry in tqdm(test_dataset[\"test\"], desc=\"Processing entries\"):\n",
    "        text = entry[\"text\"]\n",
    "\n",
    "        result = translator(text)\n",
    "        try:\n",
    "            result_file.write(result[0][\"translation_text\"] + \"\\n\")\n",
    "        except:\n",
    "            result_file.write(\"\\n\")\n",
    "\n"
   ],
   "metadata": {
    "collapsed": false,
    "ExecuteTime": {
     "end_time": "2024-05-24T11:35:00.580468800Z",
     "start_time": "2024-05-24T11:10:36.453381200Z"
    }
   }
  },
  {
   "cell_type": "code",
   "execution_count": null,
   "outputs": [],
   "source": [],
   "metadata": {
    "collapsed": false
   }
  }
 ],
 "metadata": {
  "kernelspec": {
   "display_name": "Python 3",
   "language": "python",
   "name": "python3"
  },
  "language_info": {
   "codemirror_mode": {
    "name": "ipython",
    "version": 2
   },
   "file_extension": ".py",
   "mimetype": "text/x-python",
   "name": "python",
   "nbconvert_exporter": "python",
   "pygments_lexer": "ipython2",
   "version": "2.7.6"
  }
 },
 "nbformat": 4,
 "nbformat_minor": 0
}
